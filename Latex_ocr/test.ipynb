{
 "cells": [
  {
   "cell_type": "code",
   "execution_count": 1,
   "metadata": {},
   "outputs": [],
   "source": [
    "from PIL import Image as IMG\n",
    "import pandas as pd\n",
    "import io\n",
    "import numpy as np\n",
    "import matplotlib.pyplot as plt\n",
    "from IPython.lib.latextools import latex_to_png\n",
    "import matplotlib\n",
    "import random\n",
    "import tqdm"
   ]
  },
  {
   "cell_type": "code",
   "execution_count": 14,
   "metadata": {},
   "outputs": [
    {
     "name": "stderr",
     "output_type": "stream",
     "text": [
      " 62%|██████▏   | 62147/99965 [1:53:46<1:39:19,  6.35it/s]Font 'bf' does not have a glyph for '\\uff08' [U+ff08], substituting with a dummy symbol.\n",
      "Font 'bf' does not have a glyph for '\\uff09' [U+ff09], substituting with a dummy symbol.\n",
      "Font 'bf' does not have a glyph for '\\uff08' [U+ff08], substituting with a dummy symbol.\n",
      "Font 'bf' does not have a glyph for '\\uff09' [U+ff09], substituting with a dummy symbol.\n",
      "Font 'rm' does not have a glyph for '\\uff08' [U+ff08], substituting with a dummy symbol.\n",
      "Font 'rm' does not have a glyph for '\\uff09' [U+ff09], substituting with a dummy symbol.\n",
      "Font 'rm' does not have a glyph for '\\uff08' [U+ff08], substituting with a dummy symbol.\n",
      "Font 'rm' does not have a glyph for '\\uff09' [U+ff09], substituting with a dummy symbol.\n",
      " 72%|███████▏  | 72287/99965 [2:16:20<1:22:09,  5.61it/s]Font 'bf' does not have a glyph for '\\u25ab' [U+25ab], substituting with a dummy symbol.\n",
      "Font 'bf' does not have a glyph for '\\u25ab' [U+25ab], substituting with a dummy symbol.\n",
      "Font 'bf' does not have a glyph for '\\u25ab' [U+25ab], substituting with a dummy symbol.\n",
      "Font 'bf' does not have a glyph for '\\u25ab' [U+25ab], substituting with a dummy symbol.\n",
      " 93%|█████████▎| 93119/99965 [3:04:50<11:07, 10.25it/s]  "
     ]
    }
   ],
   "source": [
    "myfr = pd.read_csv(\"D:\\Img2Latex\\datasets\\scio_csv\\data_scio_full_Copy.csv\", sep='delimiter', engine='python')[\"formula\"]\n",
    "images = []\n",
    "formula = []\n",
    "cout =0\n",
    "br = 0\n",
    "matplotlib.rcParams[\"mathtext.fontset\"] = \"cm\"\n",
    "with tqdm.tqdm(total=len(myfr)) as pbar:\n",
    "  for i, s in enumerate(myfr):\n",
    "    stack = []\n",
    "    sample = np.random.randint(1, 3)\n",
    "    for k in range(sample):\n",
    "      temp = s\n",
    "      font = np.random.choice([\"mathit\", \"mathrm\", \"da\", \"mathbf\"], p=[0.3, 0.2, 0.3, 0.2])\n",
    "      if font in stack:\n",
    "        continue\n",
    "      stack.append(font)\n",
    "      if font == \"mathit\":\n",
    "        s_k = r'\\mathit{%s}'%s\n",
    "      elif font == \"mathrm\":\n",
    "        s_k = r'\\mathrm{%s}'%s\n",
    "      elif font == \"mathbf\":\n",
    "        if (\"Longrightarrow\" in s) or (\"star\" in s):\n",
    "          matplotlib.rcParams[\"mathtext.fontset\"] = \"dejavusans\"\n",
    "        s_k = r'\\mathbf{%s}'%s\n",
    "      elif font == \"da\":\n",
    "        a = np.random.randint(3)\n",
    "        da = np.random.choice([\"A\",\"B\",\"C\",\"D\"])\n",
    "        temp = r\"%s.\\ %s\"%(da, s)\n",
    "        if a == 0:\n",
    "          s_k = r'\\mathrm{%s}'%temp\n",
    "        elif a == 1:\n",
    "          s_k = r'\\mathit{%s}'%temp\n",
    "        elif a == 2:\n",
    "          if (\"Longrightarrow\" in s) or (\"star\" in s):\n",
    "            matplotlib.rcParams[\"mathtext.fontset\"] = \"dejavusans\"\n",
    "          s_k = r'\\mathbf{%s}'%temp\n",
    "      try:\n",
    "        image = latex_to_png(s_k,backend=\"matplotlib\", wrap=True)\n",
    "        ig = IMG.open(io.BytesIO(image))\n",
    "        ig_new = IMG.new('RGB', ig.size, color = 'white')\n",
    "        ig_new.paste(ig,(0,0),ig)\n",
    "        ig_new.save(f\"D:\\Img2Latex\\Latex_ocr\\data_train/train_{i}_{k}_{font}.png\")\n",
    "        #tao va luu anh thanh cong\n",
    "        images.append(f\"train_{i}_{k}_{font}.png\")\n",
    "        formula.append(temp)\n",
    "        matplotlib.rcParams[\"mathtext.fontset\"] = \"cm\"\n",
    "      except:\n",
    "        cout +=1\n",
    "    if i%20 == 0:\n",
    "      save_frame = pd.DataFrame({\"image\":images,\"formula\":formula})\n",
    "      save_frame.to_csv(\"./train_data.csv\")\n",
    "    pbar.update(1)\n"
   ]
  },
  {
   "cell_type": "code",
   "execution_count": 11,
   "metadata": {},
   "outputs": [],
   "source": [
    "s = r\"|3x - 2| = x - 3 ongrightarrow 8x^{2} - 4x - 5 = 0\"\n",
    "s_k = r'\\mathbf{%s}'%s"
   ]
  },
  {
   "cell_type": "code",
   "execution_count": 8,
   "metadata": {},
   "outputs": [
    {
     "name": "stdout",
     "output_type": "stream",
     "text": [
      "\\mathbf{|3x - 2| = x - 3 \\Longrightarrow 8x^{2} - 4x - 5 = 0}\n"
     ]
    }
   ],
   "source": [
    "print(s_k)"
   ]
  },
  {
   "cell_type": "code",
   "execution_count": 13,
   "metadata": {},
   "outputs": [
    {
     "data": {
      "text/plain": [
       "<matplotlib.image.AxesImage at 0x22682fedc40>"
      ]
     },
     "execution_count": 13,
     "metadata": {},
     "output_type": "execute_result"
    },
    {
     "data": {
      "image/png": "[encoded data removed]",
      "text/plain": [
       "<Figure size 432x288 with 1 Axes>"
      ]
     },
     "metadata": {
      "needs_background": "light"
     },
     "output_type": "display_data"
    }
   ],
   "source": [
    "matplotlib.rcParams[\"mathtext.fontset\"] = \"dejavusans\" if (\"Longrightarrow\") in s else \"cm\"\n",
    "image = latex_to_png(s_k,backend=\"matplotlib\", wrap=True)\n",
    "ig = IMG.open(io.BytesIO(image))\n",
    "ig_new = IMG.new('RGB', ig.size, color = 'white')\n",
    "ig_new.paste(ig,(0,0),ig)\n",
    "plt.imshow(ig_new)"
   ]
  }
 ],
 "metadata": {
  "kernelspec": {
   "display_name": "Python 3.9.7 ('py39')",
   "language": "python",
   "name": "python3"
  },
  "language_info": {
   "codemirror_mode": {
    "name": "ipython",
    "version": 3
   },
   "file_extension": ".py",
   "mimetype": "text/x-python",
   "name": "python",
   "nbconvert_exporter": "python",
   "pygments_lexer": "ipython3",
   "version": "3.9.7"
  },
  "orig_nbformat": 4,
  "vscode": {
   "interpreter": {
    "hash": "6cf9a4d742bb92a5cec25d35860aeb836ebe58d5eb46a6562d7252f8865440cb"
   }
  }
 },
 "nbformat": 4,
 "nbformat_minor": 2
}
